{
 "cells": [
  {
   "cell_type": "code",
   "execution_count": 3,
   "metadata": {
    "collapsed": false
   },
   "outputs": [],
   "source": [
    "data = read.csv(\"bookexr.csv\")"
   ]
  },
  {
   "cell_type": "code",
   "execution_count": 7,
   "metadata": {
    "collapsed": false
   },
   "outputs": [],
   "source": [
    "anova1 <- aov(Sales~Location,data=data)"
   ]
  },
  {
   "cell_type": "code",
   "execution_count": 9,
   "metadata": {
    "collapsed": false
   },
   "outputs": [
    {
     "data": {
      "text/plain": [
       "Call:\n",
       "   aov(formula = Sales ~ Location, data = data)\n",
       "\n",
       "Terms:\n",
       "                Location Residuals\n",
       "Sum of Squares   11.6217    0.7026\n",
       "Deg. of Freedom        3        16\n",
       "\n",
       "Residual standard error: 0.2095531\n",
       "Estimated effects may be unbalanced"
      ]
     },
     "metadata": {},
     "output_type": "display_data"
    }
   ],
   "source": [
    "anova1"
   ]
  },
  {
   "cell_type": "code",
   "execution_count": 19,
   "metadata": {
    "collapsed": false
   },
   "outputs": [
    {
     "data": {
      "text/plain": [
       "            Df Sum Sq Mean Sq F value   Pr(>F)    \n",
       "Location     3 11.622   3.874   88.22 3.63e-10 ***\n",
       "Residuals   16  0.703   0.044                     \n",
       "---\n",
       "Signif. codes:  0 '***' 0.001 '**' 0.01 '*' 0.05 '.' 0.1 ' ' 1"
      ]
     },
     "metadata": {},
     "output_type": "display_data"
    }
   ],
   "source": [
    "summary(anova1)"
   ]
  },
  {
   "cell_type": "markdown",
   "metadata": {},
   "source": [
    "# It is significant, Reject the null hypothesis. Pvalue is less then alpha"
   ]
  },
  {
   "cell_type": "code",
   "execution_count": 21,
   "metadata": {
    "collapsed": false
   },
   "outputs": [
    {
     "data": {
      "text/plain": [
       "  Tukey multiple comparisons of means\n",
       "    95% family-wise confidence level\n",
       "\n",
       "Fit: aov(formula = Sales ~ Location, data = data)\n",
       "\n",
       "$Location\n",
       "               diff         lwr        upr     p adj\n",
       "Expert-Aisle  0.352 -0.02717958  0.7311796 0.0736649\n",
       "Front-Aisle   2.012  1.63282042  2.3911796 0.0000000\n",
       "Kiosk-Aisle   0.930  0.55082042  1.3091796 0.0000158\n",
       "Front-Expert  1.660  1.28082042  2.0391796 0.0000000\n",
       "Kiosk-Expert  0.578  0.19882042  0.9571796 0.0024578\n",
       "Kiosk-Front  -1.082 -1.46117958 -0.7028204 0.0000023\n"
      ]
     },
     "metadata": {},
     "output_type": "display_data"
    }
   ],
   "source": [
    "TukeyHSD(anova1) "
   ]
  },
  {
   "cell_type": "code",
   "execution_count": 32,
   "metadata": {
    "collapsed": false
   },
   "outputs": [
    {
     "ename": "ERROR",
     "evalue": "Error in parse(text = x, srcfile = src): <text>:1:27: unexpected '='\n1: mean(data[data[\"Location\"]=\n                              ^\n",
     "output_type": "error",
     "traceback": [
      "Error in parse(text = x, srcfile = src): <text>:1:27: unexpected '='\n1: mean(data[data[\"Location\"]=\n                              ^\nTraceback:\n"
     ]
    }
   ],
   "source": [
    "mean(data[data[\"Location\"]=\"Aisle\"]$Sales)"
   ]
  },
  {
   "cell_type": "code",
   "execution_count": 30,
   "metadata": {
    "collapsed": false
   },
   "outputs": [
    {
     "data": {
      "text/html": [
       "<table>\n",
       "<thead><tr><th scope=col>Location</th><th scope=col>Sales</th></tr></thead>\n",
       "<tbody>\n",
       "\t<tr><td>Aisle </td><td>30.06 </td></tr>\n",
       "\t<tr><td>Aisle </td><td>29.96 </td></tr>\n",
       "\t<tr><td>Aisle </td><td>30.19 </td></tr>\n",
       "\t<tr><td>Aisle </td><td>29.96 </td></tr>\n",
       "\t<tr><td>Aisle </td><td>29.74 </td></tr>\n",
       "\t<tr><td>Front </td><td>32.22 </td></tr>\n",
       "\t<tr><td>Front </td><td>31.47 </td></tr>\n",
       "\t<tr><td>Front </td><td>32.13 </td></tr>\n",
       "\t<tr><td>Front </td><td>31.86 </td></tr>\n",
       "\t<tr><td>Front </td><td>32.29 </td></tr>\n",
       "\t<tr><td>Kiosk </td><td>30.78 </td></tr>\n",
       "\t<tr><td>Kiosk </td><td>30.91 </td></tr>\n",
       "\t<tr><td>Kiosk </td><td>30.95 </td></tr>\n",
       "\t<tr><td>Kiosk </td><td>31.13 </td></tr>\n",
       "\t<tr><td>Kiosk </td><td>30.79 </td></tr>\n",
       "\t<tr><td>Expert</td><td>30.33 </td></tr>\n",
       "\t<tr><td>Expert</td><td>30.29 </td></tr>\n",
       "\t<tr><td>Expert</td><td>30.25 </td></tr>\n",
       "\t<tr><td>Expert</td><td>30.25 </td></tr>\n",
       "\t<tr><td>Expert</td><td>30.55 </td></tr>\n",
       "</tbody>\n",
       "</table>\n"
      ],
      "text/latex": [
       "\\begin{tabular}{r|ll}\n",
       " Location & Sales\\\\\n",
       "\\hline\n",
       "\t Aisle  & 30.06 \\\\\n",
       "\t Aisle  & 29.96 \\\\\n",
       "\t Aisle  & 30.19 \\\\\n",
       "\t Aisle  & 29.96 \\\\\n",
       "\t Aisle  & 29.74 \\\\\n",
       "\t Front  & 32.22 \\\\\n",
       "\t Front  & 31.47 \\\\\n",
       "\t Front  & 32.13 \\\\\n",
       "\t Front  & 31.86 \\\\\n",
       "\t Front  & 32.29 \\\\\n",
       "\t Kiosk  & 30.78 \\\\\n",
       "\t Kiosk  & 30.91 \\\\\n",
       "\t Kiosk  & 30.95 \\\\\n",
       "\t Kiosk  & 31.13 \\\\\n",
       "\t Kiosk  & 30.79 \\\\\n",
       "\t Expert & 30.33 \\\\\n",
       "\t Expert & 30.29 \\\\\n",
       "\t Expert & 30.25 \\\\\n",
       "\t Expert & 30.25 \\\\\n",
       "\t Expert & 30.55 \\\\\n",
       "\\end{tabular}\n"
      ],
      "text/markdown": [
       "\n",
       "Location | Sales | \n",
       "|---|---|---|---|---|---|---|---|---|---|---|---|---|---|---|---|---|---|---|---|\n",
       "| Aisle  | 30.06  | \n",
       "| Aisle  | 29.96  | \n",
       "| Aisle  | 30.19  | \n",
       "| Aisle  | 29.96  | \n",
       "| Aisle  | 29.74  | \n",
       "| Front  | 32.22  | \n",
       "| Front  | 31.47  | \n",
       "| Front  | 32.13  | \n",
       "| Front  | 31.86  | \n",
       "| Front  | 32.29  | \n",
       "| Kiosk  | 30.78  | \n",
       "| Kiosk  | 30.91  | \n",
       "| Kiosk  | 30.95  | \n",
       "| Kiosk  | 31.13  | \n",
       "| Kiosk  | 30.79  | \n",
       "| Expert | 30.33  | \n",
       "| Expert | 30.29  | \n",
       "| Expert | 30.25  | \n",
       "| Expert | 30.25  | \n",
       "| Expert | 30.55  | \n",
       "\n",
       "\n"
      ],
      "text/plain": [
       "   Location Sales\n",
       "1  Aisle    30.06\n",
       "2  Aisle    29.96\n",
       "3  Aisle    30.19\n",
       "4  Aisle    29.96\n",
       "5  Aisle    29.74\n",
       "6  Front    32.22\n",
       "7  Front    31.47\n",
       "8  Front    32.13\n",
       "9  Front    31.86\n",
       "10 Front    32.29\n",
       "11 Kiosk    30.78\n",
       "12 Kiosk    30.91\n",
       "13 Kiosk    30.95\n",
       "14 Kiosk    31.13\n",
       "15 Kiosk    30.79\n",
       "16 Expert   30.33\n",
       "17 Expert   30.29\n",
       "18 Expert   30.25\n",
       "19 Expert   30.25\n",
       "20 Expert   30.55"
      ]
     },
     "metadata": {},
     "output_type": "display_data"
    }
   ],
   "source": [
    "data"
   ]
  },
  {
   "cell_type": "markdown",
   "metadata": {
    "collapsed": true
   },
   "source": [
    "What is the difference between ANOVA & Regression ?"
   ]
  },
  {
   "cell_type": "code",
   "execution_count": null,
   "metadata": {
    "collapsed": true
   },
   "outputs": [],
   "source": []
  },
  {
   "cell_type": "markdown",
   "metadata": {},
   "source": [
    "*When you use logistic regression?*\n",
    "\n",
    "Where you are not able to rep data linearly you use logistics regression"
   ]
  },
  {
   "cell_type": "markdown",
   "metadata": {},
   "source": [
    "\n",
    "data"
   ]
  }
 ],
 "metadata": {
  "anaconda-cloud": {},
  "kernelspec": {
   "display_name": "R",
   "language": "R",
   "name": "ir"
  },
  "language_info": {
   "codemirror_mode": "r",
   "file_extension": ".r",
   "mimetype": "text/x-r-source",
   "name": "R",
   "pygments_lexer": "r",
   "version": "3.3.2"
  }
 },
 "nbformat": 4,
 "nbformat_minor": 1
}
