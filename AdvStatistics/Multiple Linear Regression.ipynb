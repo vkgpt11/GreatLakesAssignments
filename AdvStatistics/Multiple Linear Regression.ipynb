{
 "cells": [
  {
   "cell_type": "code",
   "execution_count": null,
   "metadata": {
    "collapsed": false
   },
   "outputs": [],
   "source": [
    "install.packages(\"corrplot\",repos='http://cran.us.r-project.org')\n",
    "install.packages(\"visreg\",repos='http://cran.us.r-project.org')\n",
    "install.packages(\"rgl\",repos='http://cran.us.r-project.org')\n",
    "install.packages(\"scatterplot3d\",repos='http://cran.us.r-project.org')\n",
    "install.packages(\"car\",repos='http://cran.us.r-project.org')\n",
    "install.packages(\"knitr\",repos='http://cran.us.r-project.org')"
   ]
  },
  {
   "cell_type": "code",
   "execution_count": 6,
   "metadata": {
    "collapsed": false
   },
   "outputs": [
    {
     "name": "stderr",
     "output_type": "stream",
     "text": [
      "Warning message:\n",
      "\"package 'car' was built under R version 3.3.3\"Warning message:\n",
      "\"package 'corrplot' was built under R version 3.3.3\"corrplot 0.84 loaded\n",
      "Warning message:\n",
      "\"package 'visreg' was built under R version 3.3.3\"Warning message:\n",
      "\"package 'rgl' was built under R version 3.3.3\"Warning message:\n",
      "\"package 'knitr' was built under R version 3.3.3\"Warning message:\n",
      "\"package 'scatterplot3d' was built under R version 3.3.3\""
     ]
    }
   ],
   "source": [
    "library(car)\n",
    "library(corrplot) \n",
    "library(visreg) \n",
    "library(rgl)\n",
    "library(knitr)\n",
    "library(scatterplot3d)"
   ]
  },
  {
   "cell_type": "markdown",
   "metadata": {},
   "source": [
    "http://www.real-statistics.com/tests-normality-and-symmetry/statistical-tests-normality-symmetry/shapiro-wilk-test/"
   ]
  },
  {
   "cell_type": "code",
   "execution_count": 7,
   "metadata": {
    "collapsed": false
   },
   "outputs": [
    {
     "data": {
      "text/html": [
       "<table>\n",
       "<thead><tr><th></th><th scope=col>education</th><th scope=col>income</th><th scope=col>women</th><th scope=col>prestige</th><th scope=col>census</th><th scope=col>type</th></tr></thead>\n",
       "<tbody>\n",
       "\t<tr><th scope=row>gov.administrators</th><td>13.11</td><td>12351</td><td>11.16</td><td>68.8 </td><td>1113 </td><td>prof </td></tr>\n",
       "\t<tr><th scope=row>general.managers</th><td>12.26</td><td>25879</td><td> 4.02</td><td>69.1 </td><td>1130 </td><td>prof </td></tr>\n",
       "\t<tr><th scope=row>accountants</th><td>12.77</td><td> 9271</td><td>15.70</td><td>63.4 </td><td>1171 </td><td>prof </td></tr>\n",
       "\t<tr><th scope=row>purchasing.officers</th><td>11.42</td><td> 8865</td><td> 9.11</td><td>56.8 </td><td>1175 </td><td>prof </td></tr>\n",
       "\t<tr><th scope=row>chemists</th><td>14.62</td><td> 8403</td><td>11.68</td><td>73.5 </td><td>2111 </td><td>prof </td></tr>\n",
       "\t<tr><th scope=row>physicists</th><td>15.64</td><td>11030</td><td> 5.13</td><td>77.6 </td><td>2113 </td><td>prof </td></tr>\n",
       "</tbody>\n",
       "</table>\n"
      ],
      "text/latex": [
       "\\begin{tabular}{r|llllll}\n",
       "  & education & income & women & prestige & census & type\\\\\n",
       "\\hline\n",
       "\tgov.administrators & 13.11 & 12351 & 11.16 & 68.8  & 1113  & prof \\\\\n",
       "\tgeneral.managers & 12.26 & 25879 &  4.02 & 69.1  & 1130  & prof \\\\\n",
       "\taccountants & 12.77 &  9271 & 15.70 & 63.4  & 1171  & prof \\\\\n",
       "\tpurchasing.officers & 11.42 &  8865 &  9.11 & 56.8  & 1175  & prof \\\\\n",
       "\tchemists & 14.62 &  8403 & 11.68 & 73.5  & 2111  & prof \\\\\n",
       "\tphysicists & 15.64 & 11030 &  5.13 & 77.6  & 2113  & prof \\\\\n",
       "\\end{tabular}\n"
      ],
      "text/markdown": [
       "\n",
       "| <!--/--> | education | income | women | prestige | census | type | \n",
       "|---|---|---|---|---|---|\n",
       "| gov.administrators | 13.11 | 12351 | 11.16 | 68.8  | 1113  | prof  | \n",
       "| general.managers | 12.26 | 25879 |  4.02 | 69.1  | 1130  | prof  | \n",
       "| accountants | 12.77 |  9271 | 15.70 | 63.4  | 1171  | prof  | \n",
       "| purchasing.officers | 11.42 |  8865 |  9.11 | 56.8  | 1175  | prof  | \n",
       "| chemists | 14.62 |  8403 | 11.68 | 73.5  | 2111  | prof  | \n",
       "| physicists | 15.64 | 11030 |  5.13 | 77.6  | 2113  | prof  | \n",
       "\n",
       "\n"
      ],
      "text/plain": [
       "                    education income women prestige census type\n",
       "gov.administrators  13.11     12351  11.16 68.8     1113   prof\n",
       "general.managers    12.26     25879   4.02 69.1     1130   prof\n",
       "accountants         12.77      9271  15.70 63.4     1171   prof\n",
       "purchasing.officers 11.42      8865   9.11 56.8     1175   prof\n",
       "chemists            14.62      8403  11.68 73.5     2111   prof\n",
       "physicists          15.64     11030   5.13 77.6     2113   prof"
      ]
     },
     "metadata": {},
     "output_type": "display_data"
    }
   ],
   "source": [
    "head(Prestige)"
   ]
  },
  {
   "cell_type": "code",
   "execution_count": 8,
   "metadata": {
    "collapsed": false
   },
   "outputs": [
    {
     "data": {
      "text/plain": [
       "   education          income          women           prestige    \n",
       " Min.   : 6.380   Min.   :  611   Min.   : 0.000   Min.   :14.80  \n",
       " 1st Qu.: 8.445   1st Qu.: 4106   1st Qu.: 3.592   1st Qu.:35.23  \n",
       " Median :10.540   Median : 5930   Median :13.600   Median :43.60  \n",
       " Mean   :10.738   Mean   : 6798   Mean   :28.979   Mean   :46.83  \n",
       " 3rd Qu.:12.648   3rd Qu.: 8187   3rd Qu.:52.203   3rd Qu.:59.27  \n",
       " Max.   :15.970   Max.   :25879   Max.   :97.510   Max.   :87.20  "
      ]
     },
     "metadata": {},
     "output_type": "display_data"
    },
    {
     "name": "stdout",
     "output_type": "stream",
     "text": [
      "'data.frame':\t102 obs. of  4 variables:\n",
      " $ education: num  13.1 12.3 12.8 11.4 14.6 ...\n",
      " $ income   : int  12351 25879 9271 8865 8403 11030 8258 14163 11377 11023 ...\n",
      " $ women    : num  11.16 4.02 15.7 9.11 11.68 ...\n",
      " $ prestige : num  68.8 69.1 63.4 56.8 73.5 77.6 72.6 78.1 73.1 68.8 ...\n"
     ]
    }
   ],
   "source": [
    "newdata <- Prestige[,c(1:4)]\n",
    "summary(newdata)\n",
    "str(newdata)"
   ]
  },
  {
   "cell_type": "code",
   "execution_count": 9,
   "metadata": {
    "collapsed": true
   },
   "outputs": [],
   "source": [
    "?Prestige"
   ]
  },
  {
   "cell_type": "code",
   "execution_count": 13,
   "metadata": {
    "collapsed": false
   },
   "outputs": [
    {
     "data": {
      "text/html": [
       "0"
      ],
      "text/latex": [
       "0"
      ],
      "text/markdown": [
       "0"
      ],
      "text/plain": [
       "[1] 0"
      ]
     },
     "metadata": {},
     "output_type": "display_data"
    }
   ],
   "source": [
    "sum(is.na(newdata))"
   ]
  },
  {
   "cell_type": "code",
   "execution_count": 17,
   "metadata": {
    "collapsed": false
   },
   "outputs": [
    {
     "data": {
      "image/png": "[encoded data removed]",
      "text/plain": [
       "plot without title"
      ]
     },
     "metadata": {},
     "output_type": "display_data"
    }
   ],
   "source": [
    "plot(newdata,pch=16)"
   ]
  },
  {
   "cell_type": "code",
   "execution_count": 19,
   "metadata": {
    "collapsed": false
   },
   "outputs": [
    {
     "data": {
      "text/html": [
       "<table>\n",
       "<thead><tr><th></th><th scope=col>education</th><th scope=col>income</th><th scope=col>women</th><th scope=col>prestige</th></tr></thead>\n",
       "<tbody>\n",
       "\t<tr><th scope=row>education</th><td>1.00000000 </td><td> 0.5775802 </td><td> 0.06185286</td><td> 0.8501769 </td></tr>\n",
       "\t<tr><th scope=row>income</th><td>0.57758023 </td><td> 1.0000000 </td><td>-0.44105927</td><td> 0.7149057 </td></tr>\n",
       "\t<tr><th scope=row>women</th><td>0.06185286 </td><td>-0.4410593 </td><td> 1.00000000</td><td>-0.1183342 </td></tr>\n",
       "\t<tr><th scope=row>prestige</th><td>0.85017689 </td><td> 0.7149057 </td><td>-0.11833419</td><td> 1.0000000 </td></tr>\n",
       "</tbody>\n",
       "</table>\n"
      ],
      "text/latex": [
       "\\begin{tabular}{r|llll}\n",
       "  & education & income & women & prestige\\\\\n",
       "\\hline\n",
       "\teducation & 1.00000000  &  0.5775802  &  0.06185286 &  0.8501769 \\\\\n",
       "\tincome & 0.57758023  &  1.0000000  & -0.44105927 &  0.7149057 \\\\\n",
       "\twomen & 0.06185286  & -0.4410593  &  1.00000000 & -0.1183342 \\\\\n",
       "\tprestige & 0.85017689  &  0.7149057  & -0.11833419 &  1.0000000 \\\\\n",
       "\\end{tabular}\n"
      ],
      "text/markdown": [
       "\n",
       "| <!--/--> | education | income | women | prestige | \n",
       "|---|---|---|---|\n",
       "| education | 1.00000000  |  0.5775802  |  0.06185286 |  0.8501769  | \n",
       "| income | 0.57758023  |  1.0000000  | -0.44105927 |  0.7149057  | \n",
       "| women | 0.06185286  | -0.4410593  |  1.00000000 | -0.1183342  | \n",
       "| prestige | 0.85017689  |  0.7149057  | -0.11833419 |  1.0000000  | \n",
       "\n",
       "\n"
      ],
      "text/plain": [
       "          education  income     women       prestige  \n",
       "education 1.00000000  0.5775802  0.06185286  0.8501769\n",
       "income    0.57758023  1.0000000 -0.44105927  0.7149057\n",
       "women     0.06185286 -0.4410593  1.00000000 -0.1183342\n",
       "prestige  0.85017689  0.7149057 -0.11833419  1.0000000"
      ]
     },
     "metadata": {},
     "output_type": "display_data"
    }
   ],
   "source": [
    "cor(newdata)"
   ]
  },
  {
   "cell_type": "code",
   "execution_count": 20,
   "metadata": {
    "collapsed": true
   },
   "outputs": [],
   "source": [
    "set.seed(1)\n",
    "\n",
    "# Center predictors.\n",
    "education.c <- scale(newdata$education, center=TRUE, scale=FALSE)\n",
    "prestige.c <- scale(newdata$prestige, center=TRUE, scale=FALSE)\n",
    "women.c <- scale(newdata$women, center=TRUE, scale=FALSE)"
   ]
  },
  {
   "cell_type": "code",
   "execution_count": 21,
   "metadata": {
    "collapsed": false
   },
   "outputs": [
    {
     "data": {
      "text/plain": [
       "   education          income          women           prestige    \n",
       " Min.   : 6.380   Min.   :  611   Min.   : 0.000   Min.   :14.80  \n",
       " 1st Qu.: 8.445   1st Qu.: 4106   1st Qu.: 3.592   1st Qu.:35.23  \n",
       " Median :10.540   Median : 5930   Median :13.600   Median :43.60  \n",
       " Mean   :10.738   Mean   : 6798   Mean   :28.979   Mean   :46.83  \n",
       " 3rd Qu.:12.648   3rd Qu.: 8187   3rd Qu.:52.203   3rd Qu.:59.27  \n",
       " Max.   :15.970   Max.   :25879   Max.   :97.510   Max.   :87.20  \n",
       "  education.c       prestige.c         women.c      \n",
       " Min.   :-4.358   Min.   :-32.033   Min.   :-28.98  \n",
       " 1st Qu.:-2.293   1st Qu.:-11.608   1st Qu.:-25.39  \n",
       " Median :-0.198   Median : -3.233   Median :-15.38  \n",
       " Mean   : 0.000   Mean   :  0.000   Mean   :  0.00  \n",
       " 3rd Qu.: 1.909   3rd Qu.: 12.442   3rd Qu.: 23.22  \n",
       " Max.   : 5.232   Max.   : 40.367   Max.   : 68.53  "
      ]
     },
     "metadata": {},
     "output_type": "display_data"
    }
   ],
   "source": [
    "new.c.vars <- cbind(education.c, prestige.c, women.c)\n",
    "newdata <- cbind(newdata, new.c.vars)\n",
    "names(newdata)[5:7] <- c(\"education.c\", \"prestige.c\", \"women.c\" )\n",
    "summary(newdata)"
   ]
  },
  {
   "cell_type": "code",
   "execution_count": 35,
   "metadata": {
    "collapsed": false
   },
   "outputs": [
    {
     "data": {
      "text/plain": [
       "\n",
       "Call:\n",
       "lm(formula = income ~ education.c + prestige.c + women.c, data = newdata)\n",
       "\n",
       "Residuals:\n",
       "    Min      1Q  Median      3Q     Max \n",
       "-7715.3  -929.7  -231.2   689.7 14391.8 \n",
       "\n",
       "Coefficients:\n",
       "            Estimate Std. Error t value Pr(>|t|)    \n",
       "(Intercept) 6797.902    254.934  26.665  < 2e-16 ***\n",
       "education.c  177.199    187.632   0.944    0.347    \n",
       "prestige.c   141.435     29.910   4.729 7.58e-06 ***\n",
       "women.c      -50.896      8.556  -5.948 4.19e-08 ***\n",
       "---\n",
       "Signif. codes:  0 '***' 0.001 '**' 0.01 '*' 0.05 '.' 0.1 ' ' 1\n",
       "\n",
       "Residual standard error: 2575 on 98 degrees of freedom\n",
       "Multiple R-squared:  0.6432,\tAdjusted R-squared:  0.6323 \n",
       "F-statistic: 58.89 on 3 and 98 DF,  p-value: < 2.2e-16\n"
      ]
     },
     "metadata": {},
     "output_type": "display_data"
    }
   ],
   "source": [
    "# fit a linear model and run a summary of its results.\n",
    "mod1 <- lm(income ~ education.c + prestige.c + women.c, data=newdata)\n",
    "summary(mod1)"
   ]
  },
  {
   "cell_type": "markdown",
   "metadata": {},
   "source": [
    "# Intercept : 1 unit increase in education there will be 177.199 increase in income"
   ]
  },
  {
   "cell_type": "code",
   "execution_count": 40,
   "metadata": {
    "collapsed": false
   },
   "outputs": [
    {
     "data": {
      "text/plain": [
       "\n",
       "Call:\n",
       "lm(formula = income ~ education + prestige + women, data = newdata)\n",
       "\n",
       "Residuals:\n",
       "    Min      1Q  Median      3Q     Max \n",
       "-7715.3  -929.7  -231.2   689.7 14391.8 \n",
       "\n",
       "Coefficients:\n",
       "            Estimate Std. Error t value Pr(>|t|)    \n",
       "(Intercept) -253.850   1086.157  -0.234    0.816    \n",
       "education    177.199    187.632   0.944    0.347    \n",
       "prestige     141.435     29.910   4.729 7.58e-06 ***\n",
       "women        -50.896      8.556  -5.948 4.19e-08 ***\n",
       "---\n",
       "Signif. codes:  0 '***' 0.001 '**' 0.01 '*' 0.05 '.' 0.1 ' ' 1\n",
       "\n",
       "Residual standard error: 2575 on 98 degrees of freedom\n",
       "Multiple R-squared:  0.6432,\tAdjusted R-squared:  0.6323 \n",
       "F-statistic: 58.89 on 3 and 98 DF,  p-value: < 2.2e-16\n"
      ]
     },
     "metadata": {},
     "output_type": "display_data"
    }
   ],
   "source": [
    "# fit a linear model and run a summary of its results.\n",
    "mod1 <- lm(income ~ education + prestige + women, data=newdata)\n",
    "summary(mod1)"
   ]
  },
  {
   "cell_type": "markdown",
   "metadata": {},
   "source": [
    "# When do you consider R-squared vs Adjusted R-squared?"
   ]
  },
  {
   "cell_type": "markdown",
   "metadata": {},
   "source": [
    "### Assignment"
   ]
  },
  {
   "cell_type": "code",
   "execution_count": 26,
   "metadata": {
    "collapsed": false
   },
   "outputs": [
    {
     "data": {
      "text/plain": [
       "\n",
       "Call:\n",
       "lm(formula = income ~ education, data = newdata)\n",
       "\n",
       "Residuals:\n",
       "    Min      1Q  Median      3Q     Max \n",
       "-5493.2 -2433.8   -41.9  1491.5 17713.1 \n",
       "\n",
       "Coefficients:\n",
       "            Estimate Std. Error t value Pr(>|t|)    \n",
       "(Intercept)  -2853.6     1407.0  -2.028   0.0452 *  \n",
       "education      898.8      127.0   7.075 2.08e-10 ***\n",
       "---\n",
       "Signif. codes:  0 '***' 0.001 '**' 0.01 '*' 0.05 '.' 0.1 ' ' 1\n",
       "\n",
       "Residual standard error: 3483 on 100 degrees of freedom\n",
       "Multiple R-squared:  0.3336,\tAdjusted R-squared:  0.3269 \n",
       "F-statistic: 50.06 on 1 and 100 DF,  p-value: 2.079e-10\n"
      ]
     },
     "metadata": {},
     "output_type": "display_data"
    }
   ],
   "source": [
    "mod1 <- lm(income ~ education , data=newdata)\n",
    "summary(mod1)"
   ]
  },
  {
   "cell_type": "markdown",
   "metadata": {},
   "source": [
    "## Education alone is significant , but Multiple R-Squared has dropped significantly"
   ]
  },
  {
   "cell_type": "code",
   "execution_count": 39,
   "metadata": {
    "collapsed": false
   },
   "outputs": [
    {
     "data": {
      "text/plain": [
       "\n",
       "Call:\n",
       "lm(formula = income ~ women + prestige, data = newdata)\n",
       "\n",
       "Residuals:\n",
       "    Min      1Q  Median      3Q     Max \n",
       "-7620.9 -1008.7  -240.4   873.1 14180.0 \n",
       "\n",
       "Coefficients:\n",
       "            Estimate Std. Error t value Pr(>|t|)    \n",
       "(Intercept)  431.574    807.630   0.534    0.594    \n",
       "women        -48.385      8.128  -5.953 4.02e-08 ***\n",
       "prestige     165.875     14.988  11.067  < 2e-16 ***\n",
       "---\n",
       "Signif. codes:  0 '***' 0.001 '**' 0.01 '*' 0.05 '.' 0.1 ' ' 1\n",
       "\n",
       "Residual standard error: 2573 on 99 degrees of freedom\n",
       "Multiple R-squared:   0.64,\tAdjusted R-squared:  0.6327 \n",
       "F-statistic: 87.98 on 2 and 99 DF,  p-value: < 2.2e-16\n"
      ]
     },
     "metadata": {},
     "output_type": "display_data"
    }
   ],
   "source": [
    "mod2<- lm(income ~ women + prestige, data=newdata)\n",
    "summary(mod2)"
   ]
  },
  {
   "cell_type": "markdown",
   "metadata": {},
   "source": [
    "## Women, prestige are significant , but Adjusted  R-Squared is 0.6327 "
   ]
  },
  {
   "cell_type": "code",
   "execution_count": 33,
   "metadata": {
    "collapsed": false
   },
   "outputs": [
    {
     "data": {
      "text/plain": [
       "\n",
       "Call:\n",
       "lm(formula = income ~ education + prestige, data = newdata)\n",
       "\n",
       "Residuals:\n",
       "    Min      1Q  Median      3Q     Max \n",
       "-6649.0 -1453.5   102.4  1234.3 14901.4 \n",
       "\n",
       "Coefficients:\n",
       "            Estimate Std. Error t value Pr(>|t|)    \n",
       "(Intercept)  -714.66    1257.53  -0.568    0.571    \n",
       "education    -169.63     207.01  -0.819    0.415    \n",
       "prestige      199.30      32.83   6.071 2.36e-08 ***\n",
       "---\n",
       "Signif. codes:  0 '***' 0.001 '**' 0.01 '*' 0.05 '.' 0.1 ' ' 1\n",
       "\n",
       "Residual standard error: 2989 on 99 degrees of freedom\n",
       "Multiple R-squared:  0.5144,\tAdjusted R-squared:  0.5046 \n",
       "F-statistic: 52.43 on 2 and 99 DF,  p-value: 2.962e-16\n"
      ]
     },
     "metadata": {},
     "output_type": "display_data"
    }
   ],
   "source": [
    "mod1 <- lm(income ~ education  + prestige, data=newdata)\n",
    "summary(mod1)"
   ]
  },
  {
   "cell_type": "markdown",
   "metadata": {},
   "source": [
    "## Education, prestige are significant , but Adjusted  R-Squared is  0.5046 "
   ]
  },
  {
   "cell_type": "code",
   "execution_count": 41,
   "metadata": {
    "collapsed": false
   },
   "outputs": [
    {
     "data": {
      "image/png": "[encoded data removed]",
      "text/plain": [
       "Plot with title \"\""
      ]
     },
     "metadata": {},
     "output_type": "display_data"
    }
   ],
   "source": [
    "corrplot(cor(newdata[1:4]),method = \"number\")"
   ]
  },
  {
   "cell_type": "code",
   "execution_count": 42,
   "metadata": {
    "collapsed": false
   },
   "outputs": [
    {
     "data": {
      "image/png": "[encoded data removed]",
      "text/plain": [
       "Plot with title \"\""
      ]
     },
     "metadata": {},
     "output_type": "display_data"
    }
   ],
   "source": [
    "plot(mod1,pch=16,which=1)"
   ]
  }
 ],
 "metadata": {
  "anaconda-cloud": {},
  "kernelspec": {
   "display_name": "R",
   "language": "R",
   "name": "ir"
  },
  "language_info": {
   "codemirror_mode": "r",
   "file_extension": ".r",
   "mimetype": "text/x-r-source",
   "name": "R",
   "pygments_lexer": "r",
   "version": "3.3.2"
  }
 },
 "nbformat": 4,
 "nbformat_minor": 1
}
