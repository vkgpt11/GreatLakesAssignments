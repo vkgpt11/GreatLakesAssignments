{
 "cells": [
  {
   "cell_type": "code",
   "execution_count": 4,
   "metadata": {
    "collapsed": false
   },
   "outputs": [],
   "source": [
    "library(rpart)\n",
    "library(rpart.plot)"
   ]
  },
  {
   "cell_type": "code",
   "execution_count": 34,
   "metadata": {
    "collapsed": true
   },
   "outputs": [],
   "source": [
    "data <- read.csv('titanic.csv')\n",
    "data$Pclass = as.factor(data$Pclass)"
   ]
  },
  {
   "cell_type": "code",
   "execution_count": 35,
   "metadata": {
    "collapsed": false
   },
   "outputs": [
    {
     "name": "stdout",
     "output_type": "stream",
     "text": [
      "'data.frame':\t891 obs. of  12 variables:\n",
      " $ PassengerId: int  1 2 3 4 5 6 7 8 9 10 ...\n",
      " $ Survived   : int  0 1 1 1 0 0 0 0 1 1 ...\n",
      " $ Pclass     : Factor w/ 3 levels \"1\",\"2\",\"3\": 3 1 3 1 3 3 1 3 3 2 ...\n",
      " $ Name       : Factor w/ 891 levels \"Abbing, Mr. Anthony\",..: 109 191 358 277 16 559 520 629 417 581 ...\n",
      " $ Sex        : Factor w/ 2 levels \"female\",\"male\": 2 1 1 1 2 2 2 2 1 1 ...\n",
      " $ Age        : num  22 38 26 35 35 NA 54 2 27 14 ...\n",
      " $ SibSp      : int  1 1 0 1 0 0 0 3 0 1 ...\n",
      " $ Parch      : int  0 0 0 0 0 0 0 1 2 0 ...\n",
      " $ Ticket     : Factor w/ 681 levels \"110152\",\"110413\",..: 524 597 670 50 473 276 86 396 345 133 ...\n",
      " $ Fare       : num  7.25 71.28 7.92 53.1 8.05 ...\n",
      " $ Cabin      : Factor w/ 148 levels \"\",\"A10\",\"A14\",..: 1 83 1 57 1 1 131 1 1 1 ...\n",
      " $ Embarked   : Factor w/ 4 levels \"\",\"C\",\"Q\",\"S\": 4 2 4 4 4 3 4 4 4 2 ...\n"
     ]
    }
   ],
   "source": [
    "str(data)"
   ]
  },
  {
   "cell_type": "code",
   "execution_count": 40,
   "metadata": {
    "collapsed": true
   },
   "outputs": [],
   "source": [
    "subset = data[c(2,3,5,6,7,8,11,12)]"
   ]
  },
  {
   "cell_type": "code",
   "execution_count": 41,
   "metadata": {
    "collapsed": false
   },
   "outputs": [
    {
     "data": {
      "text/html": [
       "<table>\n",
       "<thead><tr><th scope=col>Survived</th><th scope=col>Pclass</th><th scope=col>Sex</th><th scope=col>Age</th><th scope=col>SibSp</th><th scope=col>Parch</th><th scope=col>Cabin</th><th scope=col>Embarked</th></tr></thead>\n",
       "<tbody>\n",
       "\t<tr><td>0     </td><td>3     </td><td>male  </td><td>22    </td><td>1     </td><td>0     </td><td>      </td><td>S     </td></tr>\n",
       "\t<tr><td>1     </td><td>1     </td><td>female</td><td>38    </td><td>1     </td><td>0     </td><td>C85   </td><td>C     </td></tr>\n",
       "\t<tr><td>1     </td><td>3     </td><td>female</td><td>26    </td><td>0     </td><td>0     </td><td>      </td><td>S     </td></tr>\n",
       "\t<tr><td>1     </td><td>1     </td><td>female</td><td>35    </td><td>1     </td><td>0     </td><td>C123  </td><td>S     </td></tr>\n",
       "\t<tr><td>0     </td><td>3     </td><td>male  </td><td>35    </td><td>0     </td><td>0     </td><td>      </td><td>S     </td></tr>\n",
       "\t<tr><td>0     </td><td>3     </td><td>male  </td><td>NA    </td><td>0     </td><td>0     </td><td>      </td><td>Q     </td></tr>\n",
       "</tbody>\n",
       "</table>\n"
      ],
      "text/latex": [
       "\\begin{tabular}{r|llllllll}\n",
       " Survived & Pclass & Sex & Age & SibSp & Parch & Cabin & Embarked\\\\\n",
       "\\hline\n",
       "\t 0      & 3      & male   & 22     & 1      & 0      &        & S     \\\\\n",
       "\t 1      & 1      & female & 38     & 1      & 0      & C85    & C     \\\\\n",
       "\t 1      & 3      & female & 26     & 0      & 0      &        & S     \\\\\n",
       "\t 1      & 1      & female & 35     & 1      & 0      & C123   & S     \\\\\n",
       "\t 0      & 3      & male   & 35     & 0      & 0      &        & S     \\\\\n",
       "\t 0      & 3      & male   & NA     & 0      & 0      &        & Q     \\\\\n",
       "\\end{tabular}\n"
      ],
      "text/markdown": [
       "\n",
       "Survived | Pclass | Sex | Age | SibSp | Parch | Cabin | Embarked | \n",
       "|---|---|---|---|---|---|\n",
       "| 0      | 3      | male   | 22     | 1      | 0      |        | S      | \n",
       "| 1      | 1      | female | 38     | 1      | 0      | C85    | C      | \n",
       "| 1      | 3      | female | 26     | 0      | 0      |        | S      | \n",
       "| 1      | 1      | female | 35     | 1      | 0      | C123   | S      | \n",
       "| 0      | 3      | male   | 35     | 0      | 0      |        | S      | \n",
       "| 0      | 3      | male   | NA     | 0      | 0      |        | Q      | \n",
       "\n",
       "\n"
      ],
      "text/plain": [
       "  Survived Pclass Sex    Age SibSp Parch Cabin Embarked\n",
       "1 0        3      male   22  1     0           S       \n",
       "2 1        1      female 38  1     0     C85   C       \n",
       "3 1        3      female 26  0     0           S       \n",
       "4 1        1      female 35  1     0     C123  S       \n",
       "5 0        3      male   35  0     0           S       \n",
       "6 0        3      male   NA  0     0           Q       "
      ]
     },
     "metadata": {},
     "output_type": "display_data"
    }
   ],
   "source": [
    "head(subset)"
   ]
  },
  {
   "cell_type": "code",
   "execution_count": 42,
   "metadata": {
    "collapsed": false
   },
   "outputs": [
    {
     "data": {
      "text/html": [
       "<dl class=dl-horizontal>\n",
       "\t<dt>Survived</dt>\n",
       "\t\t<dd>FALSE</dd>\n",
       "\t<dt>Pclass</dt>\n",
       "\t\t<dd>FALSE</dd>\n",
       "\t<dt>Sex</dt>\n",
       "\t\t<dd>FALSE</dd>\n",
       "\t<dt>Age</dt>\n",
       "\t\t<dd>TRUE</dd>\n",
       "\t<dt>SibSp</dt>\n",
       "\t\t<dd>FALSE</dd>\n",
       "\t<dt>Parch</dt>\n",
       "\t\t<dd>FALSE</dd>\n",
       "\t<dt>Cabin</dt>\n",
       "\t\t<dd>FALSE</dd>\n",
       "\t<dt>Embarked</dt>\n",
       "\t\t<dd>FALSE</dd>\n",
       "</dl>\n"
      ],
      "text/latex": [
       "\\begin{description*}\n",
       "\\item[Survived] FALSE\n",
       "\\item[Pclass] FALSE\n",
       "\\item[Sex] FALSE\n",
       "\\item[Age] TRUE\n",
       "\\item[SibSp] FALSE\n",
       "\\item[Parch] FALSE\n",
       "\\item[Cabin] FALSE\n",
       "\\item[Embarked] FALSE\n",
       "\\end{description*}\n"
      ],
      "text/markdown": [
       "Survived\n",
       ":   FALSEPclass\n",
       ":   FALSESex\n",
       ":   FALSEAge\n",
       ":   TRUESibSp\n",
       ":   FALSEParch\n",
       ":   FALSECabin\n",
       ":   FALSEEmbarked\n",
       ":   FALSE\n",
       "\n"
      ],
      "text/plain": [
       "Survived   Pclass      Sex      Age    SibSp    Parch    Cabin Embarked \n",
       "   FALSE    FALSE    FALSE     TRUE    FALSE    FALSE    FALSE    FALSE "
      ]
     },
     "metadata": {},
     "output_type": "display_data"
    }
   ],
   "source": [
    "\n",
    "unlist(lapply(subset, function(x) any(is.na(x))))\n"
   ]
  },
  {
   "cell_type": "code",
   "execution_count": 45,
   "metadata": {
    "collapsed": false
   },
   "outputs": [
    {
     "data": {
      "image/png": "[encoded data removed]",
      "text/plain": [
       "plot without title"
      ]
     },
     "metadata": {},
     "output_type": "display_data"
    }
   ],
   "source": [
    "rpart(Survived ~ .,data=subset, method=\"class\") -> dt\n",
    "rpart.plot(dt)"
   ]
  },
  {
   "cell_type": "code",
   "execution_count": 48,
   "metadata": {
    "collapsed": false
   },
   "outputs": [
    {
     "name": "stdout",
     "output_type": "stream",
     "text": [
      "Call:\n",
      "rpart(formula = Survived ~ ., data = subset, method = \"class\")\n",
      "  n= 891 \n",
      "\n",
      "          CP nsplit rel error    xerror       xstd\n",
      "1 0.44444444      0 1.0000000 1.0000000 0.04244576\n",
      "2 0.12573099      1 0.5555556 0.5555556 0.03574957\n",
      "3 0.03216374      2 0.4298246 0.5409357 0.03540163\n",
      "4 0.01169591      4 0.3654971 0.5087719 0.03459945\n",
      "5 0.01000000      5 0.3538012 0.4912281 0.03413963\n",
      "\n",
      "Variable importance\n",
      "     Sex    Cabin   Pclass Embarked    Parch      Age    SibSp \n",
      "      42       35       10        5        4        3        1 \n",
      "\n",
      "Node number 1: 891 observations,    complexity param=0.4444444\n",
      "  predicted class=0  expected loss=0.3838384  P(node) =1\n",
      "    class counts:   549   342\n",
      "   probabilities: 0.616 0.384 \n",
      "  left son=2 (577 obs) right son=3 (314 obs)\n",
      "  Primary splits:\n",
      "      Sex      splits as  RL, improve=124.426300, (0 missing)\n",
      "      Cabin    splits as  LLLRLRRLRRLRLLRLRLRLRLRRLRLLRRRRRRRLRLRLRRRRRLLLRRRRRLLLLLRRLRLLLLRRLRLRRRRLLRRLLLRLLRLRRLRRRRRRRRRLRLRRRRRLRLRLRLRRRRRRRRRLRRRLRLLRRLLLRLRRLLRRLRLL, improve=101.697000, (0 missing)\n",
      "      Pclass   splits as  RRL, improve= 43.781830, (0 missing)\n",
      "      Embarked splits as  RRLL, improve= 12.865410, (0 missing)\n",
      "      Parch    < 0.5  to the left,  improve=  9.157774, (0 missing)\n",
      "  Surrogate splits:\n",
      "      Cabin    splits as  LLLRLLLLLLLLLLLLLLRLLLRRLRLLRRLRLRLLRLRLRRRRRLLLLRRLLLLLLLRLLLLRLLRRLLRRLRRLLRLLLLRLLRLLLLRRLRRRLRRLRLLLRRLLRLLLLLRRLRLLLLLLRRRLRLLRLLLLRRLRLLLRLLRL, agree=0.727, adj=0.226, (0 split)\n",
      "      Parch    < 0.5  to the left,  agree=0.678, adj=0.086, (0 split)\n",
      "      Embarked splits as  RLLL, agree=0.650, adj=0.006, (0 split)\n",
      "\n",
      "Node number 2: 577 observations,    complexity param=0.125731\n",
      "  predicted class=0  expected loss=0.1889081  P(node) =0.647587\n",
      "    class counts:   468   109\n",
      "   probabilities: 0.811 0.189 \n",
      "  left son=4 (532 obs) right son=5 (45 obs)\n",
      "  Primary splits:\n",
      "      Cabin    splits as  LLL-LRRLRRLRLLRLRL-LRL--L-LL--R-R-RL-L-L-----LLLR--RRLLLLL-RLRLRLL--LR--R--LL-RLLL-LL-LRRL-LR---R--L-LRR--RL-LRLRL--R-RRRRRL---L-LL-RLLL--R-LLR-LR-L, improve=60.745930, (0 missing)\n",
      "      Age      < 6.5  to the right, improve=10.788930, (124 missing)\n",
      "      Pclass   splits as  RLL, improve=10.019140, (0 missing)\n",
      "      Parch    < 0.5  to the left,  improve= 3.350327, (0 missing)\n",
      "      Embarked splits as  -RLL, improve= 3.079304, (0 missing)\n",
      "\n",
      "Node number 3: 314 observations,    complexity param=0.03216374\n",
      "  predicted class=1  expected loss=0.2579618  P(node) =0.352413\n",
      "    class counts:    81   233\n",
      "   probabilities: 0.258 0.742 \n",
      "  left son=6 (144 obs) right son=7 (170 obs)\n",
      "  Primary splits:\n",
      "      Pclass   splits as  RRL, improve=31.163130, (0 missing)\n",
      "      Cabin    splits as  L--R--------------R-RRRR-R--RR-RRR--RRR-RRRRR---RRR-----R-RR--RLR-RR--LR-RRRRR-R-RR--R-RR-RR-RRR-RR-R-RRRR--R-----RR-R-R----RRR-RR-R---RRLRR---R-RL-, improve=16.530190, (0 missing)\n",
      "      SibSp    < 2.5  to the right, improve= 9.372551, (0 missing)\n",
      "      Parch    < 3.5  to the right, improve= 5.140857, (0 missing)\n",
      "      Embarked splits as  RRLL, improve= 3.750944, (0 missing)\n",
      "  Surrogate splits:\n",
      "      Cabin    splits as  L--R--------------R-RRRR-R--RR-RRR--RRR-RRRRR---RRR-----R-RR--RRR-RR--RR-RRRRR-R-RR--R-RR-RR-RRR-RR-R-RRRR--R-----RR-R-L----RRR-RR-R---RRRRL---R-RL-, agree=0.748, adj=0.451, (0 split)\n",
      "      Embarked splits as  RRLR, agree=0.637, adj=0.208, (0 split)\n",
      "      SibSp    < 1.5  to the right, agree=0.592, adj=0.111, (0 split)\n",
      "      Parch    < 1.5  to the right, agree=0.567, adj=0.056, (0 split)\n",
      "      Age      < 18.5 to the left,  agree=0.564, adj=0.049, (0 split)\n",
      "\n",
      "Node number 4: 532 observations,    complexity param=0.01169591\n",
      "  predicted class=0  expected loss=0.1221805  P(node) =0.5970819\n",
      "    class counts:   467    65\n",
      "   probabilities: 0.878 0.122 \n",
      "  left son=8 (518 obs) right son=9 (14 obs)\n",
      "  Primary splits:\n",
      "      Age      < 3.5  to the right, improve=7.6641490, (120 missing)\n",
      "      Cabin    splits as  RLL-L--L--L-LL-L-L-L-L--L-LL-------R-L-L-----LLL-----LLLLL--L-L-LL--L------LL--LLL-LL-L--L-L-------L-L-----L-L-L-L---------L---L-LL--LLL----LL--L--L, improve=2.0190840, (0 missing)\n",
      "      Parch    < 0.5  to the left,  improve=1.5362320, (0 missing)\n",
      "      Embarked splits as  -RLL, improve=0.5253909, (0 missing)\n",
      "      SibSp    < 2.5  to the right, improve=0.3543323, (0 missing)\n",
      "\n",
      "Node number 5: 45 observations\n",
      "  predicted class=1  expected loss=0.02222222  P(node) =0.05050505\n",
      "    class counts:     1    44\n",
      "   probabilities: 0.022 0.978 \n",
      "\n",
      "Node number 6: 144 observations,    complexity param=0.03216374\n",
      "  predicted class=0  expected loss=0.5  P(node) =0.1616162\n",
      "    class counts:    72    72\n",
      "   probabilities: 0.500 0.500 \n",
      "  left son=12 (88 obs) right son=13 (56 obs)\n",
      "  Primary splits:\n",
      "      Embarked splits as  -RRL,     improve=7.071429, (0 missing)\n",
      "      SibSp    < 2.5  to the right, improve=4.571429, (0 missing)\n",
      "      Age      < 38.5 to the right, improve=3.875163, (42 missing)\n",
      "      Parch    < 1.5  to the right, improve=3.773262, (0 missing)\n",
      "  Surrogate splits:\n",
      "      Cabin splits as  L----------------------------------------------------------------------------------------------------------------------L-------------------R------L-, agree=0.618, adj=0.018, (0 split)\n",
      "\n",
      "Node number 7: 170 observations\n",
      "  predicted class=1  expected loss=0.05294118  P(node) =0.1907969\n",
      "    class counts:     9   161\n",
      "   probabilities: 0.053 0.947 \n",
      "\n",
      "Node number 8: 518 observations\n",
      "  predicted class=0  expected loss=0.1081081  P(node) =0.5813692\n",
      "    class counts:   462    56\n",
      "   probabilities: 0.892 0.108 \n",
      "\n",
      "Node number 9: 14 observations\n",
      "  predicted class=1  expected loss=0.3571429  P(node) =0.01571268\n",
      "    class counts:     5     9\n",
      "   probabilities: 0.357 0.643 \n",
      "\n",
      "Node number 12: 88 observations\n",
      "  predicted class=0  expected loss=0.375  P(node) =0.09876543\n",
      "    class counts:    55    33\n",
      "   probabilities: 0.625 0.375 \n",
      "\n",
      "Node number 13: 56 observations\n",
      "  predicted class=1  expected loss=0.3035714  P(node) =0.06285073\n",
      "    class counts:    17    39\n",
      "   probabilities: 0.304 0.696 \n",
      "\n"
     ]
    }
   ],
   "source": [
    "summary(dt)"
   ]
  },
  {
   "cell_type": "code",
   "execution_count": 28,
   "metadata": {
    "collapsed": false
   },
   "outputs": [
    {
     "name": "stdout",
     "output_type": "stream",
     "text": [
      "'data.frame':\t891 obs. of  12 variables:\n",
      " $ PassengerId: int  1 2 3 4 5 6 7 8 9 10 ...\n",
      " $ Survived   : int  0 1 1 1 0 0 0 0 1 1 ...\n",
      " $ Pclass     : int  3 1 3 1 3 3 1 3 3 2 ...\n",
      " $ Name       : Factor w/ 891 levels \"Abbing, Mr. Anthony\",..: 109 191 358 277 16 559 520 629 417 581 ...\n",
      " $ Sex        : Factor w/ 2 levels \"female\",\"male\": 2 1 1 1 2 2 2 2 1 1 ...\n",
      " $ Age        : num  22 38 26 35 35 NA 54 2 27 14 ...\n",
      " $ SibSp      : int  1 1 0 1 0 0 0 3 0 1 ...\n",
      " $ Parch      : int  0 0 0 0 0 0 0 1 2 0 ...\n",
      " $ Ticket     : Factor w/ 681 levels \"110152\",\"110413\",..: 524 597 670 50 473 276 86 396 345 133 ...\n",
      " $ Fare       : num  7.25 71.28 7.92 53.1 8.05 ...\n",
      " $ Cabin      : Factor w/ 148 levels \"\",\"A10\",\"A14\",..: 1 83 1 57 1 1 131 1 1 1 ...\n",
      " $ Embarked   : Factor w/ 4 levels \"\",\"C\",\"Q\",\"S\": 4 2 4 4 4 3 4 4 4 2 ...\n"
     ]
    }
   ],
   "source": [
    "str(data)"
   ]
  },
  {
   "cell_type": "code",
   "execution_count": null,
   "metadata": {
    "collapsed": true
   },
   "outputs": [],
   "source": [
    "\n",
    "rpart(y~.,method=\"class\",data=d) -> dt\n",
    "rpart.plot(dt)"
   ]
  }
 ],
 "metadata": {
  "kernelspec": {
   "display_name": "R",
   "language": "R",
   "name": "ir"
  },
  "language_info": {
   "codemirror_mode": "r",
   "file_extension": ".r",
   "mimetype": "text/x-r-source",
   "name": "R",
   "pygments_lexer": "r",
   "version": "3.3.2"
  }
 },
 "nbformat": 4,
 "nbformat_minor": 2
}
