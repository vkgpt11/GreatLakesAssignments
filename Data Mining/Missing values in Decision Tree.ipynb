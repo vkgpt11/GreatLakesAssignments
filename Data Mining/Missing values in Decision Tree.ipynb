{
 "cells": [
  {
   "cell_type": "code",
   "execution_count": 4,
   "metadata": {
    "collapsed": false
   },
   "outputs": [],
   "source": [
    "library(rpart)\n",
    "library(rpart.plot)"
   ]
  },
  {
   "cell_type": "code",
   "execution_count": 34,
   "metadata": {
    "collapsed": true
   },
   "outputs": [],
   "source": [
    "data <- read.csv('titanic.csv')\n",
    "data$Pclass = as.factor(data$Pclass)"
   ]
  },
  {
   "cell_type": "code",
   "execution_count": 35,
   "metadata": {
    "collapsed": false
   },
   "outputs": [
    {
     "name": "stdout",
     "output_type": "stream",
     "text": [
      "'data.frame':\t891 obs. of  12 variables:\n",
      " $ PassengerId: int  1 2 3 4 5 6 7 8 9 10 ...\n",
      " $ Survived   : int  0 1 1 1 0 0 0 0 1 1 ...\n",
      " $ Pclass     : Factor w/ 3 levels \"1\",\"2\",\"3\": 3 1 3 1 3 3 1 3 3 2 ...\n",
      " $ Name       : Factor w/ 891 levels \"Abbing, Mr. Anthony\",..: 109 191 358 277 16 559 520 629 417 581 ...\n",
      " $ Sex        : Factor w/ 2 levels \"female\",\"male\": 2 1 1 1 2 2 2 2 1 1 ...\n",
      " $ Age        : num  22 38 26 35 35 NA 54 2 27 14 ...\n",
      " $ SibSp      : int  1 1 0 1 0 0 0 3 0 1 ...\n",
      " $ Parch      : int  0 0 0 0 0 0 0 1 2 0 ...\n",
      " $ Ticket     : Factor w/ 681 levels \"110152\",\"110413\",..: 524 597 670 50 473 276 86 396 345 133 ...\n",
      " $ Fare       : num  7.25 71.28 7.92 53.1 8.05 ...\n",
      " $ Cabin      : Factor w/ 148 levels \"\",\"A10\",\"A14\",..: 1 83 1 57 1 1 131 1 1 1 ...\n",
      " $ Embarked   : Factor w/ 4 levels \"\",\"C\",\"Q\",\"S\": 4 2 4 4 4 3 4 4 4 2 ...\n"
     ]
    }
   ],
   "source": [
    "str(data)"
   ]
  },
  {
   "cell_type": "code",
   "execution_count": 97,
   "metadata": {
    "collapsed": true
   },
   "outputs": [],
   "source": []
  },
  {
   "cell_type": "code",
   "execution_count": 105,
   "metadata": {
    "collapsed": false
   },
   "outputs": [
    {
     "name": "stdout",
     "output_type": "stream",
     "text": [
      "      C   Q   S \n",
      "  2 168  77 644 \n",
      "        C    Q    S NA's \n",
      "   2  168   67  644   10 \n"
     ]
    }
   ],
   "source": [
    "subset = data[c(2,3,5,6,7,8,12)]\n",
    "print(summary(subset$Embarked))\n",
    "subset[subset$Embarked=='Q',]$Embarked[c(1:10)] <- NA\n",
    "print(summary(subset$Embarked))"
   ]
  },
  {
   "cell_type": "code",
   "execution_count": 106,
   "metadata": {
    "collapsed": false
   },
   "outputs": [
    {
     "data": {
      "text/html": [
       "<table>\n",
       "<thead><tr><th scope=col>Survived</th><th scope=col>Pclass</th><th scope=col>Sex</th><th scope=col>Age</th><th scope=col>SibSp</th><th scope=col>Parch</th><th scope=col>Embarked</th></tr></thead>\n",
       "<tbody>\n",
       "\t<tr><td>0     </td><td>3     </td><td>male  </td><td>22    </td><td>1     </td><td>0     </td><td>S     </td></tr>\n",
       "\t<tr><td>1     </td><td>1     </td><td>female</td><td>38    </td><td>1     </td><td>0     </td><td>C     </td></tr>\n",
       "\t<tr><td>1     </td><td>3     </td><td>female</td><td>26    </td><td>0     </td><td>0     </td><td>S     </td></tr>\n",
       "\t<tr><td>1     </td><td>1     </td><td>female</td><td>35    </td><td>1     </td><td>0     </td><td>S     </td></tr>\n",
       "\t<tr><td>0     </td><td>3     </td><td>male  </td><td>35    </td><td>0     </td><td>0     </td><td>S     </td></tr>\n",
       "\t<tr><td>0     </td><td>3     </td><td>male  </td><td>NA    </td><td>0     </td><td>0     </td><td>NA    </td></tr>\n",
       "</tbody>\n",
       "</table>\n"
      ],
      "text/latex": [
       "\\begin{tabular}{r|lllllll}\n",
       " Survived & Pclass & Sex & Age & SibSp & Parch & Embarked\\\\\n",
       "\\hline\n",
       "\t 0      & 3      & male   & 22     & 1      & 0      & S     \\\\\n",
       "\t 1      & 1      & female & 38     & 1      & 0      & C     \\\\\n",
       "\t 1      & 3      & female & 26     & 0      & 0      & S     \\\\\n",
       "\t 1      & 1      & female & 35     & 1      & 0      & S     \\\\\n",
       "\t 0      & 3      & male   & 35     & 0      & 0      & S     \\\\\n",
       "\t 0      & 3      & male   & NA     & 0      & 0      & NA    \\\\\n",
       "\\end{tabular}\n"
      ],
      "text/markdown": [
       "\n",
       "Survived | Pclass | Sex | Age | SibSp | Parch | Embarked | \n",
       "|---|---|---|---|---|---|\n",
       "| 0      | 3      | male   | 22     | 1      | 0      | S      | \n",
       "| 1      | 1      | female | 38     | 1      | 0      | C      | \n",
       "| 1      | 3      | female | 26     | 0      | 0      | S      | \n",
       "| 1      | 1      | female | 35     | 1      | 0      | S      | \n",
       "| 0      | 3      | male   | 35     | 0      | 0      | S      | \n",
       "| 0      | 3      | male   | NA     | 0      | 0      | NA     | \n",
       "\n",
       "\n"
      ],
      "text/plain": [
       "  Survived Pclass Sex    Age SibSp Parch Embarked\n",
       "1 0        3      male   22  1     0     S       \n",
       "2 1        1      female 38  1     0     C       \n",
       "3 1        3      female 26  0     0     S       \n",
       "4 1        1      female 35  1     0     S       \n",
       "5 0        3      male   35  0     0     S       \n",
       "6 0        3      male   NA  0     0     NA      "
      ]
     },
     "metadata": {},
     "output_type": "display_data"
    }
   ],
   "source": [
    "head(subset)"
   ]
  },
  {
   "cell_type": "code",
   "execution_count": 107,
   "metadata": {
    "collapsed": false
   },
   "outputs": [
    {
     "data": {
      "text/html": [
       "<dl class=dl-horizontal>\n",
       "\t<dt>Survived</dt>\n",
       "\t\t<dd>FALSE</dd>\n",
       "\t<dt>Pclass</dt>\n",
       "\t\t<dd>FALSE</dd>\n",
       "\t<dt>Sex</dt>\n",
       "\t\t<dd>FALSE</dd>\n",
       "\t<dt>Age</dt>\n",
       "\t\t<dd>TRUE</dd>\n",
       "\t<dt>SibSp</dt>\n",
       "\t\t<dd>FALSE</dd>\n",
       "\t<dt>Parch</dt>\n",
       "\t\t<dd>FALSE</dd>\n",
       "\t<dt>Embarked</dt>\n",
       "\t\t<dd>TRUE</dd>\n",
       "</dl>\n"
      ],
      "text/latex": [
       "\\begin{description*}\n",
       "\\item[Survived] FALSE\n",
       "\\item[Pclass] FALSE\n",
       "\\item[Sex] FALSE\n",
       "\\item[Age] TRUE\n",
       "\\item[SibSp] FALSE\n",
       "\\item[Parch] FALSE\n",
       "\\item[Embarked] TRUE\n",
       "\\end{description*}\n"
      ],
      "text/markdown": [
       "Survived\n",
       ":   FALSEPclass\n",
       ":   FALSESex\n",
       ":   FALSEAge\n",
       ":   TRUESibSp\n",
       ":   FALSEParch\n",
       ":   FALSEEmbarked\n",
       ":   TRUE\n",
       "\n"
      ],
      "text/plain": [
       "Survived   Pclass      Sex      Age    SibSp    Parch Embarked \n",
       "   FALSE    FALSE    FALSE     TRUE    FALSE    FALSE     TRUE "
      ]
     },
     "metadata": {},
     "output_type": "display_data"
    }
   ],
   "source": [
    "unlist(lapply(subset, function(x) any(is.na(x))))"
   ]
  },
  {
   "cell_type": "code",
   "execution_count": 108,
   "metadata": {
    "collapsed": false
   },
   "outputs": [
    {
     "data": {
      "image/png": "[encoded data removed]",
      "text/plain": [
       "plot without title"
      ]
     },
     "metadata": {},
     "output_type": "display_data"
    }
   ],
   "source": [
    "rpart(Survived ~ .,data=subset, method=\"class\") -> dt\n",
    "rpart.plot(dt)"
   ]
  },
  {
   "cell_type": "code",
   "execution_count": 109,
   "metadata": {
    "collapsed": false
   },
   "outputs": [
    {
     "name": "stdout",
     "output_type": "stream",
     "text": [
      "Call:\n",
      "rpart(formula = Survived ~ ., data = subset, method = \"class\")\n",
      "  n= 891 \n",
      "\n",
      "          CP nsplit rel error    xerror       xstd\n",
      "1 0.44444444      0 1.0000000 1.0000000 0.04244576\n",
      "2 0.02339181      1 0.5555556 0.5555556 0.03574957\n",
      "3 0.02192982      2 0.5321637 0.5643275 0.03595352\n",
      "4 0.02046784      4 0.4883041 0.5643275 0.03595352\n",
      "5 0.01169591      5 0.4678363 0.5175439 0.03482337\n",
      "6 0.01000000      7 0.4444444 0.5146199 0.03474917\n",
      "\n",
      "Variable importance\n",
      "     Sex   Pclass    SibSp      Age    Parch Embarked \n",
      "      58       16        8        7        6        5 \n",
      "\n",
      "Node number 1: 891 observations,    complexity param=0.4444444\n",
      "  predicted class=0  expected loss=0.3838384  P(node) =1\n",
      "    class counts:   549   342\n",
      "   probabilities: 0.616 0.384 \n",
      "  left son=2 (577 obs) right son=3 (314 obs)\n",
      "  Primary splits:\n",
      "      Sex      splits as  RL,       improve=124.426300, (0 missing)\n",
      "      Pclass   splits as  RRL,      improve= 43.781830, (0 missing)\n",
      "      Embarked splits as  RRLL,     improve= 13.434480, (10 missing)\n",
      "      Parch    < 0.5  to the left,  improve=  9.157774, (0 missing)\n",
      "      Age      < 6.5  to the right, improve=  8.814172, (177 missing)\n",
      "  Surrogate splits:\n",
      "      Parch < 0.5  to the left,  agree=0.678, adj=0.086, (0 split)\n",
      "\n",
      "Node number 2: 577 observations,    complexity param=0.02339181\n",
      "  predicted class=0  expected loss=0.1889081  P(node) =0.647587\n",
      "    class counts:   468   109\n",
      "   probabilities: 0.811 0.189 \n",
      "  left son=4 (553 obs) right son=5 (24 obs)\n",
      "  Primary splits:\n",
      "      Age      < 6.5  to the right, improve=10.788930, (124 missing)\n",
      "      Pclass   splits as  RLL,      improve=10.019140, (0 missing)\n",
      "      Parch    < 0.5  to the left,  improve= 3.350327, (0 missing)\n",
      "      Embarked splits as  -RLL,     improve= 3.030389, (3 missing)\n",
      "      SibSp    < 0.5  to the left,  improve= 1.501502, (0 missing)\n",
      "\n",
      "Node number 3: 314 observations,    complexity param=0.02192982\n",
      "  predicted class=1  expected loss=0.2579618  P(node) =0.352413\n",
      "    class counts:    81   233\n",
      "   probabilities: 0.258 0.742 \n",
      "  left son=6 (144 obs) right son=7 (170 obs)\n",
      "  Primary splits:\n",
      "      Pclass   splits as  RRL,      improve=31.163130, (0 missing)\n",
      "      SibSp    < 2.5  to the right, improve= 9.372551, (0 missing)\n",
      "      Parch    < 3.5  to the right, improve= 5.140857, (0 missing)\n",
      "      Embarked splits as  RRLL,     improve= 4.106984, (7 missing)\n",
      "      Age      < 12   to the left,  improve= 1.891684, (53 missing)\n",
      "  Surrogate splits:\n",
      "      Embarked splits as  RRLR,     agree=0.615, adj=0.160, (0 split)\n",
      "      SibSp    < 1.5  to the right, agree=0.592, adj=0.111, (0 split)\n",
      "      Parch    < 1.5  to the right, agree=0.567, adj=0.056, (0 split)\n",
      "      Age      < 18.5 to the left,  agree=0.564, adj=0.049, (0 split)\n",
      "\n",
      "Node number 4: 553 observations\n",
      "  predicted class=0  expected loss=0.1681736  P(node) =0.620651\n",
      "    class counts:   460    93\n",
      "   probabilities: 0.832 0.168 \n",
      "\n",
      "Node number 5: 24 observations,    complexity param=0.02046784\n",
      "  predicted class=1  expected loss=0.3333333  P(node) =0.02693603\n",
      "    class counts:     8    16\n",
      "   probabilities: 0.333 0.667 \n",
      "  left son=10 (9 obs) right son=11 (15 obs)\n",
      "  Primary splits:\n",
      "      SibSp  < 2.5  to the right, improve=8.8888890, (0 missing)\n",
      "      Pclass splits as  RRL,      improve=3.8095240, (0 missing)\n",
      "      Age    < 1.5  to the right, improve=0.6095238, (0 missing)\n",
      "  Surrogate splits:\n",
      "      Pclass   splits as  RRL,  agree=0.792, adj=0.444, (0 split)\n",
      "      Embarked splits as  -RLR, agree=0.667, adj=0.111, (0 split)\n",
      "\n",
      "Node number 6: 144 observations,    complexity param=0.02192982\n",
      "  predicted class=0  expected loss=0.5  P(node) =0.1616162\n",
      "    class counts:    72    72\n",
      "   probabilities: 0.500 0.500 \n",
      "  left son=12 (95 obs) right son=13 (49 obs)\n",
      "  Primary splits:\n",
      "      Embarked splits as  -RRL,     improve=4.867086, (7 missing)\n",
      "      SibSp    < 2.5  to the right, improve=4.571429, (0 missing)\n",
      "      Age      < 38.5 to the right, improve=3.875163, (42 missing)\n",
      "      Parch    < 1.5  to the right, improve=3.773262, (0 missing)\n",
      "\n",
      "Node number 7: 170 observations\n",
      "  predicted class=1  expected loss=0.05294118  P(node) =0.1907969\n",
      "    class counts:     9   161\n",
      "   probabilities: 0.053 0.947 \n",
      "\n",
      "Node number 10: 9 observations\n",
      "  predicted class=0  expected loss=0.1111111  P(node) =0.01010101\n",
      "    class counts:     8     1\n",
      "   probabilities: 0.889 0.111 \n",
      "\n",
      "Node number 11: 15 observations\n",
      "  predicted class=1  expected loss=0  P(node) =0.01683502\n",
      "    class counts:     0    15\n",
      "   probabilities: 0.000 1.000 \n",
      "\n",
      "Node number 12: 95 observations,    complexity param=0.01169591\n",
      "  predicted class=0  expected loss=0.4210526  P(node) =0.1066218\n",
      "    class counts:    55    40\n",
      "   probabilities: 0.579 0.421 \n",
      "  left son=24 (21 obs) right son=25 (74 obs)\n",
      "  Primary splits:\n",
      "      SibSp < 1.5  to the right, improve=4.172932, (0 missing)\n",
      "      Parch < 1.5  to the right, improve=2.982456, (0 missing)\n",
      "      Age   < 38.5 to the right, improve=2.394570, (17 missing)\n",
      "  Surrogate splits:\n",
      "      Parch < 1.5  to the right, agree=0.789, adj=0.048, (0 split)\n",
      "\n",
      "Node number 13: 49 observations\n",
      "  predicted class=1  expected loss=0.3469388  P(node) =0.05499439\n",
      "    class counts:    17    32\n",
      "   probabilities: 0.347 0.653 \n",
      "\n",
      "Node number 24: 21 observations\n",
      "  predicted class=0  expected loss=0.1428571  P(node) =0.02356902\n",
      "    class counts:    18     3\n",
      "   probabilities: 0.857 0.143 \n",
      "\n",
      "Node number 25: 74 observations,    complexity param=0.01169591\n",
      "  predicted class=0  expected loss=0.5  P(node) =0.08305275\n",
      "    class counts:    37    37\n",
      "   probabilities: 0.500 0.500 \n",
      "  left son=50 (10 obs) right son=51 (64 obs)\n",
      "  Primary splits:\n",
      "      Age   < 38.5 to the right, improve=3.3644200, (11 missing)\n",
      "      Parch < 2.5  to the right, improve=1.9722810, (0 missing)\n",
      "      SibSp < 0.5  to the right, improve=0.7289204, (0 missing)\n",
      "  Surrogate splits:\n",
      "      Parch < 2.5  to the right, agree=0.889, adj=0.3, (11 split)\n",
      "\n",
      "Node number 50: 10 observations\n",
      "  predicted class=0  expected loss=0.1  P(node) =0.01122334\n",
      "    class counts:     9     1\n",
      "   probabilities: 0.900 0.100 \n",
      "\n",
      "Node number 51: 64 observations\n",
      "  predicted class=1  expected loss=0.4375  P(node) =0.07182941\n",
      "    class counts:    28    36\n",
      "   probabilities: 0.438 0.562 \n",
      "\n"
     ]
    }
   ],
   "source": [
    "summary(dt)"
   ]
  },
  {
   "cell_type": "code",
   "execution_count": null,
   "metadata": {
    "collapsed": false
   },
   "outputs": [],
   "source": []
  },
  {
   "cell_type": "markdown",
   "metadata": {},
   "source": []
  }
 ],
 "metadata": {
  "kernelspec": {
   "display_name": "R",
   "language": "R",
   "name": "ir"
  },
  "language_info": {
   "codemirror_mode": "r",
   "file_extension": ".r",
   "mimetype": "text/x-r-source",
   "name": "R",
   "pygments_lexer": "r",
   "version": "3.3.2"
  }
 },
 "nbformat": 4,
 "nbformat_minor": 2
}
